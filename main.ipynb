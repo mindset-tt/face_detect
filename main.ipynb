{
 "cells": [
  {
   "cell_type": "code",
   "execution_count": 1,
   "metadata": {},
   "outputs": [
    {
     "ename": "ImportError",
     "evalue": "cannot import name 'FaceRecognition' from 'face_recognition' (C:\\Users\\khamp\\anaconda3\\lib\\site-packages\\face_recognition\\__init__.py)",
     "output_type": "error",
     "traceback": [
      "\u001b[1;31m---------------------------------------------------------------------------\u001b[0m",
      "\u001b[1;31mImportError\u001b[0m                               Traceback (most recent call last)",
      "\u001b[1;32m<ipython-input-1-a917e84af271>\u001b[0m in \u001b[0;36m<module>\u001b[1;34m\u001b[0m\n\u001b[0;32m      1\u001b[0m \u001b[1;32mimport\u001b[0m \u001b[0mos\u001b[0m\u001b[1;33m\u001b[0m\u001b[1;33m\u001b[0m\u001b[0m\n\u001b[1;32m----> 2\u001b[1;33m \u001b[1;32mfrom\u001b[0m \u001b[0mface_recognition\u001b[0m \u001b[1;32mimport\u001b[0m \u001b[0mFaceRecognition\u001b[0m\u001b[1;33m\u001b[0m\u001b[1;33m\u001b[0m\u001b[0m\n\u001b[0m\u001b[0;32m      3\u001b[0m \u001b[1;33m\u001b[0m\u001b[0m\n\u001b[0;32m      4\u001b[0m \u001b[1;33m\u001b[0m\u001b[0m\n\u001b[0;32m      5\u001b[0m \u001b[1;32mif\u001b[0m \u001b[0m__name__\u001b[0m \u001b[1;33m==\u001b[0m \u001b[1;34m'__main__'\u001b[0m\u001b[1;33m:\u001b[0m\u001b[1;33m\u001b[0m\u001b[1;33m\u001b[0m\u001b[0m\n",
      "\u001b[1;31mImportError\u001b[0m: cannot import name 'FaceRecognition' from 'face_recognition' (C:\\Users\\khamp\\anaconda3\\lib\\site-packages\\face_recognition\\__init__.py)"
     ]
    }
   ],
   "source": [
    "import os\n",
    "from face_recognition import FaceRecognition\n",
    "\n",
    "\n",
    "if __name__ == '__main__':\n",
    "    model_name = \"face_recognition.h5\"\n",
    "    image_path = 'Obama.jpg'\n",
    "    face_recognition = FaceRecognition()\n",
    "    face_recognition.training()\n",
    "    face_recognition.save_model(model_name)\n",
    "    model = FaceRecognition.load_saved_model(os.path.join(\"model\", model_name))\n",
    "    k = FaceRecognition.model_prediction(image_path, os.path.join(\"model\", model_name),\n",
    "                                         os.path.join(\"model\", \"face_recognition_class_names.npy\"))\n",
    "    print(f\"detected class is {k}\")"
   ]
  },
  {
   "cell_type": "code",
   "execution_count": null,
   "metadata": {},
   "outputs": [],
   "source": []
  }
 ],
 "metadata": {
  "kernelspec": {
   "display_name": "Python 3",
   "language": "python",
   "name": "python3"
  },
  "language_info": {
   "codemirror_mode": {
    "name": "ipython",
    "version": 3
   },
   "file_extension": ".py",
   "mimetype": "text/x-python",
   "name": "python",
   "nbconvert_exporter": "python",
   "pygments_lexer": "ipython3",
   "version": "3.7.9"
  }
 },
 "nbformat": 4,
 "nbformat_minor": 4
}
